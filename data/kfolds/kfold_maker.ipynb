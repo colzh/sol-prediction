{
 "cells": [
  {
   "cell_type": "code",
   "execution_count": 3,
   "metadata": {},
   "outputs": [],
   "source": [
    "import pandas as pd\n",
    "from sklearn.model_selection import KFold\n",
    "\n",
    "# Load the data\n",
    "data = pd.read_csv('../raw/aqsoldb2.csv')\n",
    "\n",
    "# Initialize the KFold object\n",
    "kf = KFold(n_splits=5, shuffle=True, random_state=42)\n",
    "\n",
    "# Create the fold columns\n",
    "for i, (train_index, val_index) in enumerate(kf.split(data)):\n",
    "    data[f'fold_{i}'] = 'train'  # Initialize all as 'train'\n",
    "    data.loc[val_index, f'fold_{i}'] = 'val'  # Set validation indices to 'val'\n",
    "\n",
    "# Save the updated DataFrame to a new CSV file\n",
    "data.to_csv('aquasoldb_folds2.csv', index=False)"
   ]
  }
 ],
 "metadata": {
  "kernelspec": {
   "display_name": "_lbl-sol",
   "language": "python",
   "name": "python3"
  },
  "language_info": {
   "codemirror_mode": {
    "name": "ipython",
    "version": 3
   },
   "file_extension": ".py",
   "mimetype": "text/x-python",
   "name": "python",
   "nbconvert_exporter": "python",
   "pygments_lexer": "ipython3",
   "version": "3.8.9"
  },
  "orig_nbformat": 4
 },
 "nbformat": 4,
 "nbformat_minor": 2
}
